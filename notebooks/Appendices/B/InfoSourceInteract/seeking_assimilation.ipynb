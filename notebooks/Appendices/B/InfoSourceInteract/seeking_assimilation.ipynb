{
 "cells": [
  {
   "cell_type": "code",
   "execution_count": 3,
   "metadata": {},
   "outputs": [],
   "source": [
    "import sys\n",
    "import os\n",
    "module_path = os.path.abspath(os.path.join('../../../../src'))\n",
    "if module_path not in sys.path:\n",
    "    sys.path.append(module_path)\n",
    "\n",
    "%config InlineBackend.figure_format = 'retina'"
   ]
  },
  {
   "cell_type": "code",
   "execution_count": 5,
   "metadata": {},
   "outputs": [],
   "source": [
    "from plotting.basic import *\n",
    "from plotting.summaries import *\n",
    "from matplotlib import pyplot as plt\n",
    "from computations.probabilistic.vectorised import *\n",
    "from society.structure.network import ArtificialNetwork\n",
    "from society.beliefs import Distribution, BeliefDistribution\n",
    "from computations.insights.opinions import mse_seeking_uncertainty"
   ]
  },
  {
   "cell_type": "code",
   "execution_count": 7,
   "metadata": {},
   "outputs": [],
   "source": [
    "sigma = 0.2\n",
    "information_source = (0.6, 0.3)\n",
    "linespace = Distribution(type=\"linespace\", range=(-1,1))\n",
    "unique = Distribution(type=\"unique\", value=sigma)\n",
    "belief_distribution = BeliefDistribution(unique, linespace)\n",
    "network = ArtificialNetwork(1000, \"random_graph\", p=0.01)\n",
    "agent_network = AgentNetwork(belief_distribution, network, agent_type=AnalyticalAgent)"
   ]
  },
  {
   "cell_type": "code",
   "execution_count": 9,
   "metadata": {},
   "outputs": [],
   "source": [
    "tolerance = sigma*6\n",
    "update_rule = UpdateRule(evaluation_bias=0.3, assimilation_bias=0, rewire_probability=1)\n",
    "interactions = Interactions(update_rule, interaction_rate=1, interacting_agents=True,)\n",
    "insights = Insights()\n",
    "simulation = Simulation(10000, insights)"
   ]
  },
  {
   "cell_type": "code",
   "execution_count": 10,
   "metadata": {},
   "outputs": [
    {
     "name": "stderr",
     "output_type": "stream",
     "text": [
      "0 of 19|0 of 16:  23%|██▎       | 2337/10000 [00:31<01:38, 77.88it/s]"
     ]
    }
   ],
   "source": [
    "assimilation_biases = np.arange(0.01, 0.2, 0.01).round(2)\n",
    "initial_uncertainties = np.arange(0.1, 0.5, 0.025).round(2)\n",
    "results = mse_seeking_uncertainty(assimilation_biases, initial_uncertainties, agent_network, simulation, interactions)"
   ]
  },
  {
   "cell_type": "code",
   "execution_count": null,
   "metadata": {},
   "outputs": [],
   "source": []
  }
 ],
 "metadata": {
  "kernelspec": {
   "display_name": "Python 3",
   "language": "python",
   "name": "python3"
  },
  "language_info": {
   "codemirror_mode": {
    "name": "ipython",
    "version": 3
   },
   "file_extension": ".py",
   "mimetype": "text/x-python",
   "name": "python",
   "nbconvert_exporter": "python",
   "pygments_lexer": "ipython3",
   "version": "3.11.0"
  },
  "orig_nbformat": 4
 },
 "nbformat": 4,
 "nbformat_minor": 2
}
