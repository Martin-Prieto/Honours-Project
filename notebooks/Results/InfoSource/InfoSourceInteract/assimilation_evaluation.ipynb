{
 "cells": [
  {
   "cell_type": "code",
   "execution_count": null,
   "metadata": {},
   "outputs": [],
   "source": [
    "import sys\n",
    "import os\n",
    "module_path = os.path.abspath(os.path.join('../../../src'))\n",
    "if module_path not in sys.path:\n",
    "    sys.path.append(module_path)\n",
    "\n",
    "%config InlineBackend.figure_format = 'retina'"
   ]
  },
  {
   "cell_type": "code",
   "execution_count": null,
   "metadata": {},
   "outputs": [],
   "source": [
    "from computations.insights.opinions import varying_parameters\n",
    "from plotting.basic import *\n",
    "from plotting.summaries import *\n",
    "from matplotlib import pyplot as plt\n",
    "from computations.probabilistic.vectorised import *\n",
    "from society.structure.network import ArtificialNetwork\n",
    "from society.beliefs import Distribution, BeliefDistribution\n",
    "from computations.insights.opinions import mse_assimilation_uncertainty"
   ]
  },
  {
   "cell_type": "code",
   "execution_count": null,
   "metadata": {},
   "outputs": [],
   "source": [
    "information_source = (0.6, 0.3)\n",
    "linespace = Distribution(type=\"linespace\", range=(-1,1))\n",
    "unique = Distribution(type=\"unique\", value=0.2)\n",
    "belief_distribution = BeliefDistribution(unique, unique, linespace)\n",
    "network = ArtificialNetwork(100, \"random_graph\", p=0.2)\n",
    "agent_network = AgentNetwork(belief_distribution, network, agent_type=AnalyticalAgent)"
   ]
  },
  {
   "cell_type": "code",
   "execution_count": null,
   "metadata": {},
   "outputs": [],
   "source": [
    "update_rule = UpdateRule(evaluation_bias=0.3, assimilation_bias=0, rewire_probability=0, tolerance=0.1)\n",
    "interactions = Interactions(update_rule, interaction_rate=0.5, interacting_agents=True, information_source=information_source, draw_from_source=True)\n",
    "insights = Insights([\"mse\"])\n",
    "simulation = Simulation(1000, insights)"
   ]
  },
  {
   "cell_type": "code",
   "execution_count": null,
   "metadata": {},
   "outputs": [],
   "source": [
    "assimilation_biases = np.arange(0.01, 0.2, 0.01).round(2)\n",
    "initial_uncertainties = np.arange(0.1, 0.5, 0.025).round(2)\n",
    "results = mse_assimilation_uncertainty(assimilation_biases, initial_uncertainties, agent_network, simulation, interactions)"
   ]
  }
 ],
 "metadata": {
  "language_info": {
   "name": "python"
  },
  "orig_nbformat": 4
 },
 "nbformat": 4,
 "nbformat_minor": 2
}
