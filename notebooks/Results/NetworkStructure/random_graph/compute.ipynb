{
 "cells": [
  {
   "cell_type": "code",
   "execution_count": null,
   "metadata": {},
   "outputs": [],
   "source": [
    "import sys\n",
    "import os\n",
    "module_path = os.path.abspath(os.path.join('../../../../src'))\n",
    "if module_path not in sys.path:\n",
    "    sys.path.append(module_path)\n",
    "\n",
    "%config InlineBackend.figure_format = 'retina'"
   ]
  },
  {
   "cell_type": "code",
   "execution_count": null,
   "metadata": {},
   "outputs": [],
   "source": [
    "from society.agents import AnalyticalAgent\n",
    "from society.structure.network import ArtificialNetwork\n",
    "from society.beliefs import Distribution, BeliefDistribution\n",
    "from society.structure import AgentNetwork\n",
    "from updates import Interactions, UpdateRule\n",
    "from simulation import Simulation, Insights\n",
    "from plotting.basic import *\n",
    "from matplotlib import pyplot as plt\n",
    "from computations.insights.relative import diversity, disagreement\n",
    "from plotting.summaries import *\n",
    "import pandas as pd"
   ]
  },
  {
   "cell_type": "code",
   "execution_count": null,
   "metadata": {},
   "outputs": [],
   "source": [
    "linespace = Distribution(type=\"linespace\", range=(-1,1))\n",
    "update_rule = UpdateRule(evaluation_bias=0.3, rewire_probability=1)\n",
    "interactions = Interactions(update_rule, interacting_agents=True)\n",
    "insights = Insights()\n",
    "simulation = Simulation(1000, insights)\n",
    "network = ArtificialNetwork(100, \"random_graph\", p = 0.2)\n",
    "unique = Distribution(type=\"unique\", value=0.1)\n",
    "belief_distribution = BeliefDistribution(unique, linespace)\n",
    "agent_network = AgentNetwork(belief_distribution, network, agent_type=AnalyticalAgent)\n",
    "update_rule = UpdateRule(assimilation_bias=0.05, evaluation_bias=0, rewire_probability=0)\n",
    "interactions = Interactions(update_rule, interacting_agents=True)\n",
    "agent_network.network =  ArtificialNetwork(100, \"random_graph\", p = 1)\n"
   ]
  },
  {
   "cell_type": "code",
   "execution_count": null,
   "metadata": {},
   "outputs": [],
   "source": [
    "def compute_div_dis(assim, ev, rw, densities):\n",
    "    unique = Distribution(type=\"unique\", value=0.1)\n",
    "    belief_distribution = BeliefDistribution(unique, linespace)\n",
    "    agent_network = AgentNetwork(belief_distribution, network, agent_type=AnalyticalAgent)\n",
    "    update_rule = UpdateRule(assimilation_bias=assim, evaluation_bias=ev, rewire_probability=rw)\n",
    "    interactions = Interactions(update_rule, interacting_agents=True)\n",
    "\n",
    "    repetitions = 100\n",
    "    results_diversity = []\n",
    "    results_disagreement= []\n",
    "    for density in densities:\n",
    "        for i in range(repetitions):\n",
    "            agent_network.network =  ArtificialNetwork(100, \"random_graph\", p = density)\n",
    "            simulation.run(interactions, agent_network)\n",
    "            beliefs = simulation.insights.belief_evolution.T[simulation.iterations]\n",
    "            mean = np.mean(beliefs)\n",
    "            beliefs = simulation.insights.belief_evolution.T[simulation.iterations]\n",
    "            edges = agent_network.get_edges()\n",
    "            agents = agent_network.agent_lookup\n",
    "            results_disagreement.append((disagreement(agents, edges), density))\n",
    "            results_diversity.append((diversity(agent_network, mean), density))\n",
    "\n",
    "    df_diversity = pd.DataFrame(results_diversity, columns=['Diversity', 'Density'])\n",
    "    df_disagreement = pd.DataFrame(results_disagreement, columns=['Disagreement', 'Density'])\n",
    "    return df_diversity, df_disagreement"
   ]
  },
  {
   "cell_type": "code",
   "execution_count": null,
   "metadata": {},
   "outputs": [],
   "source": [
    "densities = [0.8, 0.6, 0.4, 0.2, 0.1, 0.08, 0.06, 0.04, 0.02, 0.01]\n",
    "df1_div, df1_dis = compute_div_dis(assim=0, ev=0.3,rw=0, densities=densities)\n",
    "df1_div.to_csv('../../../../results/data/random_graph/no_rewire/dis_evbias_0.1.csv')\n",
    "df1_dis.to_csv('../../../../results/data/random_graph/no_rewire/dis_evbias_0.1.csv')"
   ]
  },
  {
   "cell_type": "code",
   "execution_count": null,
   "metadata": {},
   "outputs": [],
   "source": []
  }
 ],
 "metadata": {
  "kernelspec": {
   "display_name": "Python 3",
   "language": "python",
   "name": "python3"
  },
  "language_info": {
   "codemirror_mode": {
    "name": "ipython",
    "version": 3
   },
   "file_extension": ".py",
   "mimetype": "text/x-python",
   "name": "python",
   "nbconvert_exporter": "python",
   "pygments_lexer": "ipython3",
   "version": "3.11.0"
  },
  "orig_nbformat": 4
 },
 "nbformat": 4,
 "nbformat_minor": 2
}
