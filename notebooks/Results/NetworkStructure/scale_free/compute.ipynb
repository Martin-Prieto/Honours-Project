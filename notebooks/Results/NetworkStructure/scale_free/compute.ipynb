{
 "cells": [
  {
   "cell_type": "code",
   "execution_count": null,
   "metadata": {},
   "outputs": [],
   "source": [
    "import sys\n",
    "import os\n",
    "module_path = os.path.abspath(os.path.join('../../../../src'))\n",
    "if module_path not in sys.path:\n",
    "    sys.path.append(module_path)\n",
    "\n",
    "%config InlineBackend.figure_format = 'retina'"
   ]
  },
  {
   "cell_type": "code",
   "execution_count": null,
   "metadata": {},
   "outputs": [],
   "source": [
    "from society.agents import AnalyticalAgent\n",
    "from society.structure.network import ArtificialNetwork\n",
    "from society.beliefs import Distribution, BeliefDistribution\n",
    "from society.structure import AgentNetwork\n",
    "from updates import Interactions, UpdateRule\n",
    "from simulation import Simulation, Insights\n",
    "from plotting.basic import *\n",
    "from matplotlib import pyplot as plt\n",
    "from computations.insights.relative import diversity, disagreement\n",
    "from plotting.summaries import *\n",
    "import pandas as pd"
   ]
  },
  {
   "cell_type": "code",
   "execution_count": null,
   "metadata": {},
   "outputs": [],
   "source": [
    "linespace = Distribution(type=\"linespace\", range=(-1,1))\n",
    "insights = Insights()\n",
    "simulation = Simulation(1000, insights)\n",
    "unique = Distribution(type=\"unique\", value=0.1)\n",
    "belief_distribution = BeliefDistribution(unique, linespace)"
   ]
  },
  {
   "cell_type": "code",
   "execution_count": null,
   "metadata": {},
   "outputs": [],
   "source": [
    "def compute_div_dis(assim, ev, rw, reps, sizes):\n",
    "    unique = Distribution(type=\"unique\", value=0.1)\n",
    "    belief_distribution = BeliefDistribution(unique, linespace)\n",
    "    update_rule = UpdateRule(assimilation_bias=assim, evaluation_bias=ev, rewire_probability=rw)\n",
    "    interactions = Interactions(update_rule, interacting_agents=True)\n",
    "\n",
    "    results_diversity = []\n",
    "    results_disagreement= []\n",
    "    for size in sizes:\n",
    "        for _ in range(reps):\n",
    "            network =  ArtificialNetwork(size, \"barabasi_albert\", m = 3)\n",
    "            agent_network = AgentNetwork(belief_distribution, network, agent_type=AnalyticalAgent)\n",
    "            simulation.run(interactions, agent_network)\n",
    "            beliefs = simulation.insights.belief_evolution.T[simulation.iterations]\n",
    "            mean = np.mean(beliefs)\n",
    "            edges = agent_network.get_edges()\n",
    "            agents = agent_network.agent_lookup\n",
    "            results_disagreement.append((disagreement(agents, edges), size))\n",
    "            results_diversity.append((diversity(agent_network, mean), size))\n",
    "\n",
    "    df_diversity = pd.DataFrame(results_diversity, columns=['Diversity', 'size'])\n",
    "    df_disagreement = pd.DataFrame(results_disagreement, columns=['Disagreement', 'size'])\n",
    "    return df_diversity, df_disagreement"
   ]
  },
  {
   "cell_type": "code",
   "execution_count": null,
   "metadata": {},
   "outputs": [],
   "source": [
    "sizes = [100,200, 300, 400, 500, 600, 800, 1000, 2000]\n",
    "df1_div_rw, df1_dis_rw = compute_div_dis(assim=0, ev=0, rw=0, reps=100, sizes=sizes)\n",
    "df1_div_rw.to_csv('../../../../results/data/scale_free/no_rewire/div_nobias_0.1.csv')\n",
    "df1_dis_rw.to_csv('../../../../results/data/scale_free/no_rewire/dis_nobias_0.1.csv')"
   ]
  },
  {
   "cell_type": "code",
   "execution_count": null,
   "metadata": {},
   "outputs": [],
   "source": [
    "sizes = [100,200, 300, 400, 500, 600, 800, 1000, 2000]\n",
    "df1_div_rw, df1_dis_rw = compute_div_dis(assim=0, ev=0, rw=1, reps=100, sizes=sizes)\n",
    "df1_div_rw.to_csv('../../../../results/data/scale_free/rewire/div_nobias_0.1.csv')\n",
    "df1_dis_rw.to_csv('../../../../results/data/scale_free/rewire/dis_nobias_0.1.csv')"
   ]
  },
  {
   "cell_type": "code",
   "execution_count": null,
   "metadata": {},
   "outputs": [],
   "source": [
    "sizes = [100,200, 300, 400, 500, 600, 800, 1000, 2000]\n",
    "df1_div_rw, df1_dis_rw = compute_div_dis(assim=0, ev=0.3, rw=0, reps=100, sizes=sizes)\n",
    "df1_div_rw.to_csv('../../../../results/data/scale_free/no_rewire/div_evbias_0.1.csv')\n",
    "df1_dis_rw.to_csv('../../../../results/data/scale_free/no_rewire/dis_evbias_0.1.csv')"
   ]
  },
  {
   "cell_type": "code",
   "execution_count": null,
   "metadata": {},
   "outputs": [],
   "source": [
    "sizes = [100,200, 300, 400, 500, 600, 800, 1000, 2000]\n",
    "df1_div_rw, df1_dis_rw = compute_div_dis(assim=0, ev=0.3, rw=1, reps=100, sizes=sizes)\n",
    "df1_div_rw.to_csv('../../../../results/data/scale_free/rewire/div_evbias_0.1.csv')\n",
    "df1_dis_rw.to_csv('../../../../results/data/scale_free/rewire/dis_evbias_0.1.csv')"
   ]
  },
  {
   "cell_type": "code",
   "execution_count": null,
   "metadata": {},
   "outputs": [],
   "source": [
    "sizes = [100,200, 300, 400, 500, 600, 800, 1000, 2000]\n",
    "df1_div_rw, df1_dis_rw = compute_div_dis(assim=0.05, ev=0, rw=0, reps=100, sizes=sizes)\n",
    "df1_div_rw.to_csv('../../../../results/data/scale_free/no_rewire/div_assimbias_0.1.csv')\n",
    "df1_dis_rw.to_csv('../../../../results/data/scale_free/no_rewire/dis_assimbias_0.1.csv')"
   ]
  },
  {
   "cell_type": "code",
   "execution_count": null,
   "metadata": {},
   "outputs": [],
   "source": [
    "sizes = [100,200, 300, 400, 500, 600, 800, 1000, 2000]\n",
    "df1_div_rw, df1_dis_rw = compute_div_dis(assim=0.05, ev=0, rw=1, reps=100, sizes=sizes)\n",
    "df1_div_rw.to_csv('../../../../results/data/scale_free/rewire/div_assimbias_0.1.csv')\n",
    "df1_dis_rw.to_csv('../../../../results/data/scale_free/rewire/dis_assimbias_0.1.csv')"
   ]
  }
 ],
 "metadata": {
  "kernelspec": {
   "display_name": "Python 3",
   "language": "python",
   "name": "python3"
  },
  "language_info": {
   "codemirror_mode": {
    "name": "ipython",
    "version": 3
   },
   "file_extension": ".py",
   "mimetype": "text/x-python",
   "name": "python",
   "nbconvert_exporter": "python",
   "pygments_lexer": "ipython3",
   "version": "3.11.0"
  },
  "orig_nbformat": 4
 },
 "nbformat": 4,
 "nbformat_minor": 2
}
